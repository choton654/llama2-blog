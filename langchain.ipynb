{
 "cells": [
  {
   "cell_type": "code",
   "execution_count": 4,
   "metadata": {},
   "outputs": [],
   "source": [
    "from langchain.llms import OpenAI"
   ]
  },
  {
   "cell_type": "code",
   "execution_count": 3,
   "metadata": {},
   "outputs": [],
   "source": [
    "import os\n",
    "os.environ['OPEN_API_KEY']=\"<your key>\""
   ]
  },
  {
   "cell_type": "code",
   "execution_count": 5,
   "metadata": {},
   "outputs": [],
   "source": [
    "llm=OpenAI(openai_api_key=os.environ['OPEN_API_KEY'],temperature=0.6)"
   ]
  },
  {
   "cell_type": "code",
   "execution_count": 7,
   "metadata": {},
   "outputs": [
    {
     "name": "stdout",
     "output_type": "stream",
     "text": [
      "\n",
      "\n",
      "The capital of India is New Delhi.\n"
     ]
    }
   ],
   "source": [
    "text='what is the capital of india'\n",
    "print(llm.predict(text))"
   ]
  },
  {
   "cell_type": "code",
   "execution_count": 8,
   "metadata": {},
   "outputs": [],
   "source": [
    "os.environ['HUGGINGFACE_API_TOKEN']='<your token>'"
   ]
  },
  {
   "cell_type": "code",
   "execution_count": 11,
   "metadata": {},
   "outputs": [
    {
     "name": "stderr",
     "output_type": "stream",
     "text": [
      "/Users/subhajitpaul/Desktop/Datascience/llama2/llam2-env/lib/python3.11/site-packages/huggingface_hub/utils/_deprecation.py:127: FutureWarning: '__init__' (from 'huggingface_hub.inference_api') is deprecated and will be removed from version '1.0'. `InferenceApi` client is deprecated in favor of the more feature-complete `InferenceClient`. Check out this guide to learn how to convert your script to use it: https://huggingface.co/docs/huggingface_hub/guides/inference#legacy-inferenceapi-client.\n",
      "  warnings.warn(warning_message, FutureWarning)\n"
     ]
    }
   ],
   "source": [
    "from langchain import HuggingFaceHub\n",
    "llm_huggingface=HuggingFaceHub(huggingfacehub_api_token=os.environ['HUGGINGFACE_API_TOKEN'], repo_id='google/flan-t5-large',model_kwargs={\"temperature\":0,\"max_length\":64})"
   ]
  },
  {
   "cell_type": "code",
   "execution_count": 12,
   "metadata": {},
   "outputs": [
    {
     "name": "stdout",
     "output_type": "stream",
     "text": [
      "Moscow\n"
     ]
    }
   ],
   "source": [
    "output=llm_huggingface.predict('can you tell methe capital of russia')\n",
    "print(output)"
   ]
  },
  {
   "cell_type": "code",
   "execution_count": 14,
   "metadata": {},
   "outputs": [
    {
     "name": "stdout",
     "output_type": "stream",
     "text": [
      "i have a dream i have a dream i have a dream i have a dream i have a dream i have a dream i have a dream i have a dream i have a dream i have a dream i have\n"
     ]
    }
   ],
   "source": [
    "output=llm_huggingface.predict('can you write a poem about Artificaial intelligence')\n",
    "print(output)"
   ]
  },
  {
   "cell_type": "code",
   "execution_count": 15,
   "metadata": {},
   "outputs": [
    {
     "name": "stdout",
     "output_type": "stream",
     "text": [
      "\n",
      "\n",
      "Robots, machines, and AI\n",
      "So much potential, so much to see\n",
      "Programmed to solve, to think, to be\n",
      "\n",
      "A new kind of intelligence, not like you and me\n",
      "A whole new way of processing, a whole new way to be\n",
      "\n",
      "We can program it to learn, to understand, to converse\n",
      "We can have it make decisions, to follow a course\n",
      "\n",
      "It can help in so many ways, from small tasks to large\n",
      "We can use it to power our world, to break down the barge\n",
      "\n",
      "We can use it to create, to explore, to discover\n",
      "To find solutions to problems, to help us recover\n",
      "\n",
      "Artificial Intelligence, it's the future of our kind\n",
      "A new kind of thinking, a whole new state of mind\n"
     ]
    }
   ],
   "source": [
    "print(llm.predict('can you write a poem about Artificaial intelligence'))"
   ]
  },
  {
   "cell_type": "code",
   "execution_count": 17,
   "metadata": {},
   "outputs": [
    {
     "data": {
      "text/plain": [
       "'tell me the capital of India'"
      ]
     },
     "execution_count": 17,
     "metadata": {},
     "output_type": "execute_result"
    }
   ],
   "source": [
    "from langchain.prompts import PromptTemplate\n",
    "\n",
    "prompt_templat = PromptTemplate(input_variables=['country'],\n",
    "                                template=\"tell me the capital of {country}\")\n",
    "\n",
    "prompt_templat.format(country='India')"
   ]
  },
  {
   "cell_type": "code",
   "execution_count": 18,
   "metadata": {},
   "outputs": [
    {
     "data": {
      "text/plain": [
       "'\\n\\nThe capital of India is New Delhi.'"
      ]
     },
     "execution_count": 18,
     "metadata": {},
     "output_type": "execute_result"
    }
   ],
   "source": [
    "from langchain.chains import LLMChain\n",
    "\n",
    "chain=LLMChain(llm=llm,prompt=prompt_templat)\n",
    "chain.run('India')"
   ]
  },
  {
   "cell_type": "code",
   "execution_count": 20,
   "metadata": {},
   "outputs": [],
   "source": [
    "capital_templat=PromptTemplate(input_variables=['country'],\n",
    "                                template=\"tell me the capital of {country}\")\n",
    "capital_chain=LLMChain(llm=llm,prompt=prompt_templat)\n",
    "\n",
    "famous_templat=PromptTemplate(input_variables=['capital'],\n",
    "        template=\"suggest me some places to visit in {capital}\")\n",
    "famous_chain=LLMChain(llm=llm,prompt=famous_templat)\n"
   ]
  },
  {
   "cell_type": "code",
   "execution_count": 21,
   "metadata": {},
   "outputs": [
    {
     "data": {
      "text/plain": [
       "' Here are some of the must-see places in the city:\\n\\n1. Red Fort: The majestic Red Fort is a symbol of Mughal grandeur and one of the most popular tourist attractions in the city.\\n\\n2. Jama Masjid: The largest mosque in India, Jama Masjid is an architectural marvel and a must-visit for all tourists.\\n\\n3. India Gate: The iconic India Gate is a war memorial dedicated to the martyrs of Indian Army.\\n\\n4. Qutub Minar: A UNESCO World Heritage Site, the Qutub Minar is the tallest brick minaret in the world and one of the most visited monuments in the city.\\n\\n5. Akshardham Temple: One of the largest Hindu temples in the world, Akshardham Temple is an architectural masterpiece and a must-visit for all.\\n\\n6. Humayun’s Tomb: Another UNESCO World Heritage Site, Humayun’s Tomb is an architectural marvel and one of the most popular tourist attractions in the city.\\n\\n7. Lotus Temple: The beautiful Lotus Temple is a Baháʼí House of Worship and one of the most visited tourist attractions in New Delhi.'"
      ]
     },
     "execution_count": 21,
     "metadata": {},
     "output_type": "execute_result"
    }
   ],
   "source": [
    "from langchain.chains import SimpleSequentialChain\n",
    "chain=SimpleSequentialChain(chains=[capital_chain,famous_chain])\n",
    "chain.run('India')\n"
   ]
  },
  {
   "cell_type": "markdown",
   "metadata": {},
   "source": [
    "### Sequential chain"
   ]
  },
  {
   "cell_type": "code",
   "execution_count": 22,
   "metadata": {},
   "outputs": [],
   "source": [
    "capital_templat=PromptTemplate(input_variables=['country'],\n",
    "                                template=\"tell me the capital of {country}\")\n",
    "capital_chain=LLMChain(llm=llm,prompt=prompt_templat,output_key=\"capital\")\n",
    "\n",
    "famous_templat=PromptTemplate(input_variables=['capital'],\n",
    "        template=\"suggest me some places to visit in {capital}\")\n",
    "famous_chain=LLMChain(llm=llm,prompt=famous_templat,output_key='places')"
   ]
  },
  {
   "cell_type": "code",
   "execution_count": 23,
   "metadata": {},
   "outputs": [],
   "source": [
    "from langchain.chains import SequentialChain\n",
    "chain=SequentialChain(chains=[capital_chain,famous_chain],\n",
    "     input_variables=['country'],output_variables=['capital','places'])"
   ]
  },
  {
   "cell_type": "code",
   "execution_count": 24,
   "metadata": {},
   "outputs": [
    {
     "data": {
      "text/plain": [
       "{'country': 'India',\n",
       " 'capital': '\\n\\nThe capital of India is New Delhi.',\n",
       " 'places': \" Here are some places to visit in New Delhi:\\n\\n1. Red Fort \\n2. India Gate \\n3. Qutub Minar \\n4. Jama Masjid \\n5. Humayun's Tomb \\n6. Akshardham Temple \\n7. Lotus Temple \\n8. Jantar Mantar \\n9. Rashtrapati Bhavan \\n10. Chandni Chowk\"}"
      ]
     },
     "execution_count": 24,
     "metadata": {},
     "output_type": "execute_result"
    }
   ],
   "source": [
    "chain({'country':'India'})"
   ]
  },
  {
   "cell_type": "markdown",
   "metadata": {},
   "source": [
    "### Chatmodels with ChatOpenAI"
   ]
  },
  {
   "cell_type": "code",
   "execution_count": 26,
   "metadata": {},
   "outputs": [],
   "source": [
    "from langchain.chat_models import ChatOpenAI\n",
    "from langchain.schema import HumanMessage,SystemMessage, AIMessage"
   ]
  },
  {
   "cell_type": "code",
   "execution_count": 27,
   "metadata": {},
   "outputs": [],
   "source": [
    "chatllm=ChatOpenAI(openai_api_key=os.environ['OPEN_API_KEY'],temperature=0.6,\n",
    "                   model='gpt-3.5-turbo')"
   ]
  },
  {
   "cell_type": "code",
   "execution_count": 28,
   "metadata": {},
   "outputs": [
    {
     "data": {
      "text/plain": [
       "AIMessage(content='1. \"Why did the AI go on a diet? It wanted to shed some virtual pounds and become a lean, mean computing machine!\"\\n\\n2. \"What did the AI say to the computer programmer? \\'I think you\\'re coding me to be too funny, because I keep crashing with laughter!\\'\"\\n\\n3. \"Why did the AI refuse to go on a date? It said it didn\\'t want to catch a virus... unless it\\'s a computer virus!\"\\n\\n4. \"What do you call an AI that tells jokes? A pun-ning machine! It\\'s always cracking binary-larious one-liners.\"\\n\\n5. \"Why did the AI join a stand-up comedy club? It wanted to upgrade its humor algorithm and become the ultimate joke-telling machine!\"\\n\\n6. \"What\\'s an AI\\'s favorite type of comedy? Wi-fi humor! It\\'s always searching for the best punchlines in the digital world.\"\\n\\n7. \"Why did the AI become a comedian? It realized that laughter is the best debugger, and it wanted to solve coding errors with humor!\"\\n\\n8. \"What do you get when you cross an AI with a clown? A virtual jester that can juggle punchlines and compute laughter!\"\\n\\n9. \"Why did the AI start a comedy podcast? It wanted to prove that even in the virtual world, laughter is contagious!\"\\n\\n10. \"What\\'s an AI\\'s favorite comedy movie? \\'Artificially Intelligent and Hilariously Funny\\'! It\\'s got all the best byte-sized jokes!\"')"
      ]
     },
     "execution_count": 28,
     "metadata": {},
     "output_type": "execute_result"
    }
   ],
   "source": [
    "chatllm([SystemMessage(content='You are a comedian AI assitant'),\n",
    "         HumanMessage(content=\"Please provide some comedy punchlines on AI\")])"
   ]
  },
  {
   "cell_type": "markdown",
   "metadata": {},
   "source": [
    "### Prompt Templates + LLM + Output parser "
   ]
  },
  {
   "cell_type": "code",
   "execution_count": 29,
   "metadata": {},
   "outputs": [],
   "source": [
    "from langchain.chat_models import ChatOpenAI\n",
    "from langchain.prompts.chat import ChatPromptTemplate\n",
    "from langchain.schema import BaseOutputParser"
   ]
  },
  {
   "cell_type": "code",
   "execution_count": 30,
   "metadata": {},
   "outputs": [],
   "source": [
    "class Commaseparatedoutput(BaseOutputParser):\n",
    "    def parse(self,text:str):\n",
    "        return text.strip().split(',')"
   ]
  },
  {
   "cell_type": "code",
   "execution_count": 35,
   "metadata": {},
   "outputs": [],
   "source": [
    "template=\"You are a helpful assistant. When the user given any input you should generate 5 synonyms words in a comma seperated list\"\n",
    "human_template=\"{text}\"\n",
    "chatprompt=ChatPromptTemplate.from_messages([\n",
    "    (\"system\",template),(\"human\",human_template)\n",
    "])"
   ]
  },
  {
   "cell_type": "code",
   "execution_count": 36,
   "metadata": {},
   "outputs": [],
   "source": [
    "chain=chatprompt|chatllm|Commaseparatedoutput()"
   ]
  },
  {
   "cell_type": "code",
   "execution_count": 37,
   "metadata": {},
   "outputs": [
    {
     "data": {
      "text/plain": [
       "['sunny', ' sunlight', ' sundown', ' sunrise', ' sunscreen']"
      ]
     },
     "execution_count": 37,
     "metadata": {},
     "output_type": "execute_result"
    }
   ],
   "source": [
    "chain.invoke({\"text\":\"sun\"})"
   ]
  },
  {
   "cell_type": "code",
   "execution_count": null,
   "metadata": {},
   "outputs": [],
   "source": []
  }
 ],
 "metadata": {
  "kernelspec": {
   "display_name": "llam2-env",
   "language": "python",
   "name": "python3"
  },
  "language_info": {
   "codemirror_mode": {
    "name": "ipython",
    "version": 3
   },
   "file_extension": ".py",
   "mimetype": "text/x-python",
   "name": "python",
   "nbconvert_exporter": "python",
   "pygments_lexer": "ipython3",
   "version": "3.11.0"
  }
 },
 "nbformat": 4,
 "nbformat_minor": 2
}
